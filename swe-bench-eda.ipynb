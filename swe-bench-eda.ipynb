{
 "cells": [
  {
   "cell_type": "code",
   "execution_count": 17,
   "metadata": {},
   "outputs": [],
   "source": [
    "import pandas as pd\n",
    "\n",
    "splits = {'dev': 'data/dev-00000-of-00001.parquet', 'test': 'data/test-00000-of-00001.parquet'}\n",
    "lite_df = pd.read_parquet(\"hf://datasets/princeton-nlp/SWE-bench_Lite/\" + splits[\"test\"])\n",
    "ver_df = pd.read_parquet(\n",
    "    \"hf://datasets/princeton-nlp/SWE-bench_Verified/data/test-00000-of-00001.parquet\"\n",
    ")"
   ]
  },
  {
   "cell_type": "code",
   "execution_count": 27,
   "metadata": {},
   "outputs": [],
   "source": [
    "# 93 instances overlap\n",
    "overlap_list = list(lite_df[lite_df.instance_id.isin(ver_df.instance_id)].instance_id)\n",
    "with open(\"overlap.txt\", \"w\") as file:\n",
    "    for item in overlap_list:\n",
    "        file.write(f\"{item}\\n\")"
   ]
  }
 ],
 "metadata": {
  "language_info": {
   "name": "python"
  }
 },
 "nbformat": 4,
 "nbformat_minor": 2
}
